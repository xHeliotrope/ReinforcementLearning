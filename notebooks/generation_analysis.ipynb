{
 "cells": [
  {
   "cell_type": "markdown",
   "metadata": {},
   "source": [
    "# Deap Generation Analysis"
   ]
  },
  {
   "cell_type": "code",
   "execution_count": 1,
   "metadata": {},
   "outputs": [],
   "source": [
    "from utils import list_all_scores"
   ]
  },
  {
   "cell_type": "code",
   "execution_count": 6,
   "metadata": {},
   "outputs": [
    {
     "data": {
      "text/plain": [
       "{0: [8400,\n",
       "  2700,\n",
       "  0,\n",
       "  0,\n",
       "  0,\n",
       "  0,\n",
       "  4400,\n",
       "  5400,\n",
       "  8400,\n",
       "  10700,\n",
       "  12200,\n",
       "  0,\n",
       "  6000,\n",
       "  0,\n",
       "  6400,\n",
       "  0,\n",
       "  0,\n",
       "  0,\n",
       "  0,\n",
       "  0],\n",
       " 1: [0, 6000, 5400, 0, 0, 6600, 7800, 0, 0],\n",
       " 2: [0, 7200, 4700, 12300, 8200, 4300, 0, 0, 4700, 4800, 3500, 10900, 0],\n",
       " 3: [5400, 700, 0, 6500, 600, 0, 0, 5200, 8400, 8400],\n",
       " 4: [4100, 0, 7000, 0, 0, 0, 4500, 4600, 5400, 10000, 0, 5400, 0],\n",
       " 5: [5400,\n",
       "  0,\n",
       "  0,\n",
       "  0,\n",
       "  5400,\n",
       "  0,\n",
       "  4100,\n",
       "  2400,\n",
       "  2400,\n",
       "  0,\n",
       "  8400,\n",
       "  12400,\n",
       "  12000,\n",
       "  6700,\n",
       "  0,\n",
       "  8400,\n",
       "  0],\n",
       " 6: [11400,\n",
       "  11800,\n",
       "  0,\n",
       "  5400,\n",
       "  5400,\n",
       "  0,\n",
       "  13200,\n",
       "  0,\n",
       "  1000,\n",
       "  0,\n",
       "  0,\n",
       "  0,\n",
       "  6700,\n",
       "  0,\n",
       "  6000,\n",
       "  0],\n",
       " 7: [0, 8200, 7500, 12600, 5000, 0, 4800, 3200, 4200, 3900, 4100],\n",
       " 8: [4600, 0, 4200, 1000, 7600, 0, 0, 4000, 17400, 0, 8400, 0, 3700],\n",
       " 9: [0, 0, 3000, 6000, 0, 5200, 0, 0, 0, 8400, 0, 3400],\n",
       " 10: [8400, 0, 5400, 2300, 8200, 8400, 0, 0, 7600, 8200, 8400, 11300],\n",
       " 11: [0, 5200, 0, 4000, 1000, 8400, 0, 0, 0, 5800, 5200, 4200, 0],\n",
       " 12: [0, 0, 0, 0, 6800, 0, 7600, 0],\n",
       " 13: [0,\n",
       "  0,\n",
       "  5200,\n",
       "  8400,\n",
       "  0,\n",
       "  0,\n",
       "  8400,\n",
       "  5400,\n",
       "  5100,\n",
       "  0,\n",
       "  0,\n",
       "  7900,\n",
       "  0,\n",
       "  12400,\n",
       "  5200,\n",
       "  6400,\n",
       "  12400],\n",
       " 14: [22300, 0, 0, 0, 4000, 0, 8200, 0, 0, 0, 0, 7600],\n",
       " 15: [],\n",
       " 16: [],\n",
       " 17: [],\n",
       " 18: [],\n",
       " 19: []}"
      ]
     },
     "execution_count": 6,
     "metadata": {},
     "output_type": "execute_result"
    }
   ],
   "source": [
    "list_all_scores()"
   ]
  },
  {
   "cell_type": "code",
   "execution_count": 7,
   "metadata": {},
   "outputs": [],
   "source": [
    "scores = list_all_scores()"
   ]
  },
  {
   "cell_type": "code",
   "execution_count": 8,
   "metadata": {},
   "outputs": [
    {
     "name": "stdout",
     "output_type": "stream",
     "text": [
      "0 20\n",
      "1 9\n",
      "2 13\n",
      "3 10\n",
      "4 13\n",
      "5 17\n",
      "6 16\n",
      "7 11\n",
      "8 13\n",
      "9 12\n",
      "10 12\n",
      "11 13\n",
      "12 8\n",
      "13 17\n",
      "14 15\n",
      "15 0\n",
      "16 0\n",
      "17 0\n",
      "18 0\n",
      "19 0\n"
     ]
    }
   ],
   "source": [
    "for key, val in scores.items():\n",
    "    print(key, len(val))"
   ]
  },
  {
   "cell_type": "code",
   "execution_count": null,
   "metadata": {},
   "outputs": [],
   "source": []
  }
 ],
 "metadata": {
  "kernelspec": {
   "display_name": "Python 3",
   "language": "python",
   "name": "python3"
  },
  "language_info": {
   "codemirror_mode": {
    "name": "ipython",
    "version": 3
   },
   "file_extension": ".py",
   "mimetype": "text/x-python",
   "name": "python",
   "nbconvert_exporter": "python",
   "pygments_lexer": "ipython3",
   "version": "3.7.2"
  }
 },
 "nbformat": 4,
 "nbformat_minor": 2
}
